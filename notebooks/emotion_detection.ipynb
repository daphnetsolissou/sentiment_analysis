{
 "cells": [
  {
   "cell_type": "code",
   "execution_count": 1,
   "metadata": {
    "collapsed": true
   },
   "outputs": [
    {
     "name": "stdout",
     "output_type": "stream",
     "text": [
      "/home/daphne/PycharmProjects/sentiment_task/data/carer_emotion_dataset\n"
     ]
    }
   ],
   "source": [
    "%load_ext autoreload\n",
    "%autoreload 2\n",
    "\n",
    "import pandas as pd\n",
    "import os\n",
    "import sys\n",
    "\n",
    "pd.options.display.max_columns = None\n",
    "sys.path.append('../')\n",
    "if os.path.abspath(os.pardir) not in sys.path:\n",
    "    sys.path.append(os.path.abspath(os.pardir))\n",
    "\n",
    "from preprocessing import Preprocessor\n",
    "from sklearn.model_selection import train_test_split\n",
    "from sklearn.feature_extraction.text import TfidfVectorizer\n",
    "from sklearn.naive_bayes import MultinomialNB\n",
    "from sklearn.feature_extraction.text import CountVectorizer\n",
    "from sklearn.pipeline import Pipeline\n",
    "\n",
    "import warnings\n",
    "warnings.filterwarnings('ignore')\n",
    "\n",
    "ROOT_DIR = os.path.dirname(os.getcwd())\n",
    "DATA_DIR = os.path.join(ROOT_DIR, 'data', 'carer_emotion_dataset')\n",
    "print(DATA_DIR)\n",
    "\n",
    "label2int = {\n",
    "  \"sadness\": 0,\n",
    "  \"joy\": 1,\n",
    "  \"love\": 2,\n",
    "  \"anger\": 3,\n",
    "  \"fear\": 4,\n",
    "  \"surprise\": 5\n",
    "}"
   ]
  },
  {
   "cell_type": "markdown",
   "source": [
    "## Load dataset"
   ],
   "metadata": {
    "collapsed": false
   }
  },
  {
   "cell_type": "code",
   "execution_count": 2,
   "outputs": [
    {
     "name": "stdout",
     "output_type": "stream",
     "text": [
      "                                                    text  label\n",
      "18169  i begged her to come in the house with me when...      0\n",
      "440    i feel indecisive on whether or not i feel the...      4\n",
      "17785  i am feeling the past few days a little distre...      4\n",
      "17844  i must add the crowd was similar to last night...      2\n",
      "5675   i often used the word poggy when we were growi...      0\n",
      "(20000, 2)\n",
      "Index(['text', 'label'], dtype='object')\n"
     ]
    }
   ],
   "source": [
    "training_data = pd.read_csv(os.path.join(DATA_DIR, 'training.csv'), encoding='utf8')\n",
    "test_data = pd.read_csv(os.path.join(DATA_DIR, 'test.csv'), encoding='utf8')\n",
    "validation_data = pd.read_csv(os.path.join(DATA_DIR, 'validation.csv'), encoding='utf8')\n",
    "\n",
    "dataset = pd.concat([training_data, test_data, validation_data], ignore_index=True)\n",
    "dataset = dataset.sample(frac=1)\n",
    "print(dataset.head())\n",
    "print(dataset.shape)\n",
    "print(dataset.columns)"
   ],
   "metadata": {
    "collapsed": false,
    "pycharm": {
     "name": "#%%\n"
    }
   }
  },
  {
   "cell_type": "code",
   "execution_count": 3,
   "outputs": [
    {
     "name": "stdout",
     "output_type": "stream",
     "text": [
      "['begged come house got back left right away feeling distinctly unwelcome', 'feel indecisive whether feel book huckleberry finn censored', 'feeling past day little distressed writing much', 'must add crowd similar last night except much laid back stoner feel supporting cast parent escaped kid', 'often used word poggy growing together feeling particularly ugly generally good day want stay bed hide outside world', 'feel totally listless exam come gone whole five month front uni free time', 'feel insulted', 'feeling particularly discouraged little weve seen lately decided needed stop negative instead refocus thought remember many thing grateful right', 'feel honored amazing son celebrate', 'feel messy room']\n",
      "(20000, 15080)\n"
     ]
    }
   ],
   "source": [
    "corpus = []\n",
    "for i, row in dataset.iterrows():\n",
    "    preprocessor = Preprocessor(row['text'])\n",
    "    words_list = preprocessor.get_preprocessed_list_words()\n",
    "    text = ' '.join(words_list)\n",
    "    corpus.append(text)\n",
    "print(corpus[0:10])\n",
    "# vectorizer = TfidfVectorizer()\n",
    "vectorizer = CountVectorizer()\n",
    "X = vectorizer.fit_transform(corpus)\n",
    "vectorizer.get_feature_names_out()\n",
    "\n",
    "print(X.shape)\n",
    "y = dataset['label'].copy()"
   ],
   "metadata": {
    "collapsed": false,
    "pycharm": {
     "name": "#%%\n"
    }
   }
  },
  {
   "cell_type": "code",
   "execution_count": 4,
   "outputs": [
    {
     "name": "stdout",
     "output_type": "stream",
     "text": [
      "Training mean accuracy: 0.7371333333333333\n",
      "Testing mean accuracy: 0.677\n"
     ]
    }
   ],
   "source": [
    "X_train, X_test, y_train, y_test = train_test_split(X, y, test_size = 0.25, random_state = 0)\n",
    "\n",
    "clf = MultinomialNB()\n",
    "clf.fit(X_train, y_train)\n",
    "y_pred = clf.predict(X_test)\n",
    "train_score = clf.score(X_train, y_train)\n",
    "test_score = clf.score(X_test, y_test)\n",
    "\n",
    "print(f'Training mean accuracy: {train_score}')\n",
    "print(f'Testing mean accuracy: {test_score}')"
   ],
   "metadata": {
    "collapsed": false,
    "pycharm": {
     "name": "#%%\n"
    }
   }
  },
  {
   "cell_type": "code",
   "execution_count": 5,
   "outputs": [
    {
     "data": {
      "text/plain": "array([[1327,   86,    0,    0,    0,    0],\n       [  49, 1708,    0,    0,    1,    0],\n       [  65,  279,   26,    0,    0,    0],\n       [ 245,  252,    0,  198,    3,    0],\n       [ 227,  223,    0,    7,  126,    0],\n       [  61,  108,    0,    0,    9,    0]])"
     },
     "execution_count": 5,
     "metadata": {},
     "output_type": "execute_result"
    }
   ],
   "source": [
    "from sklearn.metrics import confusion_matrix\n",
    "\n",
    "confusion_matrix(y_test, y_pred)"
   ],
   "metadata": {
    "collapsed": false,
    "pycharm": {
     "name": "#%%\n"
    }
   }
  }
 ],
 "metadata": {
  "kernelspec": {
   "display_name": "Python 3",
   "language": "python",
   "name": "python3"
  },
  "language_info": {
   "codemirror_mode": {
    "name": "ipython",
    "version": 2
   },
   "file_extension": ".py",
   "mimetype": "text/x-python",
   "name": "python",
   "nbconvert_exporter": "python",
   "pygments_lexer": "ipython2",
   "version": "2.7.6"
  }
 },
 "nbformat": 4,
 "nbformat_minor": 0
}